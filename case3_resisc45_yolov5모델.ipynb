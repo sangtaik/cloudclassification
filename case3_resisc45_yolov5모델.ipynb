{
 "cells": [
  {
   "cell_type": "code",
   "execution_count": 1,
   "id": "cf39345a-6d4a-40e6-b50b-27af310474cd",
   "metadata": {},
   "outputs": [
    {
     "name": "stderr",
     "output_type": "stream",
     "text": [
      "Cloning into 'yolov5'...\n"
     ]
    }
   ],
   "source": [
    "!git clone https://github.com/ultralytics/yolov5.git\n",
    "# 출처: https://whoishoo.tistory.com/227?category=942153 [HOOAI]"
   ]
  },
  {
   "cell_type": "code",
   "execution_count": 2,
   "id": "e603ab50-57f3-4ac3-a836-2bb0deacdeaa",
   "metadata": {},
   "outputs": [
    {
     "name": "stdout",
     "output_type": "stream",
     "text": [
      "C:\\Git\\cloudclassification\\yolov5\n"
     ]
    }
   ],
   "source": [
    "%cd yolov5/"
   ]
  },
  {
   "cell_type": "code",
   "execution_count": 3,
   "id": "83fd4cbc-002f-48be-b8b1-9a45300eca2b",
   "metadata": {},
   "outputs": [
    {
     "name": "stdout",
     "output_type": "stream",
     "text": [
      "Requirement already satisfied: matplotlib>=3.2.2 in c:\\users\\sangt\\anaconda3\\envs\\tensorflow\\lib\\site-packages (from -r requirements.txt (line 4)) (3.5.1)\n",
      "Collecting matplotlib>=3.2.2\n",
      "  Downloading matplotlib-3.5.2-cp39-cp39-win_amd64.whl (7.2 MB)\n",
      "Requirement already satisfied: numpy>=1.18.5 in c:\\users\\sangt\\anaconda3\\envs\\tensorflow\\lib\\site-packages (from -r requirements.txt (line 5)) (1.21.5)\n",
      "Collecting numpy>=1.18.5\n",
      "  Downloading numpy-1.22.3-cp39-cp39-win_amd64.whl (14.7 MB)\n",
      "Requirement already satisfied: opencv-python>=4.1.1 in c:\\users\\sangt\\anaconda3\\envs\\tensorflow\\lib\\site-packages (from -r requirements.txt (line 6)) (4.5.5.64)\n",
      "Requirement already satisfied: Pillow>=7.1.2 in c:\\users\\sangt\\anaconda3\\envs\\tensorflow\\lib\\site-packages (from -r requirements.txt (line 7)) (9.0.1)\n",
      "Collecting Pillow>=7.1.2\n",
      "  Downloading Pillow-9.1.0-cp39-cp39-win_amd64.whl (3.3 MB)\n",
      "Collecting PyYAML>=5.3.1\n",
      "  Downloading PyYAML-6.0-cp39-cp39-win_amd64.whl (151 kB)\n",
      "Requirement already satisfied: requests>=2.23.0 in c:\\users\\sangt\\anaconda3\\envs\\tensorflow\\lib\\site-packages (from -r requirements.txt (line 9)) (2.27.1)\n",
      "Requirement already satisfied: scipy>=1.4.1 in c:\\users\\sangt\\anaconda3\\envs\\tensorflow\\lib\\site-packages (from -r requirements.txt (line 10)) (1.7.3)\n",
      "Collecting scipy>=1.4.1\n",
      "  Downloading scipy-1.8.0-cp39-cp39-win_amd64.whl (36.9 MB)\n",
      "Collecting torch>=1.7.0\n",
      "  Downloading torch-1.11.0-cp39-cp39-win_amd64.whl (157.9 MB)\n",
      "Collecting torchvision>=0.8.1\n",
      "  Downloading torchvision-0.12.0-cp39-cp39-win_amd64.whl (1.0 MB)\n",
      "Requirement already satisfied: tqdm>=4.41.0 in c:\\users\\sangt\\anaconda3\\envs\\tensorflow\\lib\\site-packages (from -r requirements.txt (line 13)) (4.64.0)\n",
      "Requirement already satisfied: tensorboard>=2.4.1 in c:\\users\\sangt\\anaconda3\\envs\\tensorflow\\lib\\site-packages (from -r requirements.txt (line 16)) (2.8.0)\n",
      "Collecting tensorboard>=2.4.1\n",
      "  Downloading tensorboard-2.9.0-py3-none-any.whl (5.8 MB)\n",
      "Requirement already satisfied: pandas>=1.1.4 in c:\\users\\sangt\\anaconda3\\envs\\tensorflow\\lib\\site-packages (from -r requirements.txt (line 20)) (1.4.1)\n",
      "Collecting pandas>=1.1.4\n",
      "  Downloading pandas-1.4.2-cp39-cp39-win_amd64.whl (10.5 MB)\n",
      "Requirement already satisfied: seaborn>=0.11.0 in c:\\users\\sangt\\anaconda3\\envs\\tensorflow\\lib\\site-packages (from -r requirements.txt (line 21)) (0.11.2)\n",
      "Collecting thop\n",
      "  Downloading thop-0.0.31.post2005241907-py3-none-any.whl (8.7 kB)\n",
      "Requirement already satisfied: python-dateutil>=2.7 in c:\\users\\sangt\\anaconda3\\envs\\tensorflow\\lib\\site-packages (from matplotlib>=3.2.2->-r requirements.txt (line 4)) (2.8.2)\n",
      "Requirement already satisfied: packaging>=20.0 in c:\\users\\sangt\\anaconda3\\envs\\tensorflow\\lib\\site-packages (from matplotlib>=3.2.2->-r requirements.txt (line 4)) (21.3)\n",
      "Requirement already satisfied: fonttools>=4.22.0 in c:\\users\\sangt\\anaconda3\\envs\\tensorflow\\lib\\site-packages (from matplotlib>=3.2.2->-r requirements.txt (line 4)) (4.25.0)\n",
      "Requirement already satisfied: cycler>=0.10 in c:\\users\\sangt\\anaconda3\\envs\\tensorflow\\lib\\site-packages (from matplotlib>=3.2.2->-r requirements.txt (line 4)) (0.11.0)\n",
      "Requirement already satisfied: kiwisolver>=1.0.1 in c:\\users\\sangt\\anaconda3\\envs\\tensorflow\\lib\\site-packages (from matplotlib>=3.2.2->-r requirements.txt (line 4)) (1.3.2)\n",
      "Requirement already satisfied: pyparsing>=2.2.1 in c:\\users\\sangt\\anaconda3\\envs\\tensorflow\\lib\\site-packages (from matplotlib>=3.2.2->-r requirements.txt (line 4)) (3.0.4)\n",
      "Requirement already satisfied: charset-normalizer~=2.0.0 in c:\\users\\sangt\\anaconda3\\envs\\tensorflow\\lib\\site-packages (from requests>=2.23.0->-r requirements.txt (line 9)) (2.0.12)\n",
      "Requirement already satisfied: urllib3<1.27,>=1.21.1 in c:\\users\\sangt\\anaconda3\\envs\\tensorflow\\lib\\site-packages (from requests>=2.23.0->-r requirements.txt (line 9)) (1.26.9)\n",
      "Requirement already satisfied: certifi>=2017.4.17 in c:\\users\\sangt\\anaconda3\\envs\\tensorflow\\lib\\site-packages (from requests>=2.23.0->-r requirements.txt (line 9)) (2021.10.8)\n",
      "Requirement already satisfied: idna<4,>=2.5 in c:\\users\\sangt\\anaconda3\\envs\\tensorflow\\lib\\site-packages (from requests>=2.23.0->-r requirements.txt (line 9)) (3.3)\n",
      "Requirement already satisfied: typing-extensions in c:\\users\\sangt\\anaconda3\\envs\\tensorflow\\lib\\site-packages (from torch>=1.7.0->-r requirements.txt (line 11)) (4.1.1)\n",
      "Requirement already satisfied: colorama in c:\\users\\sangt\\anaconda3\\envs\\tensorflow\\lib\\site-packages (from tqdm>=4.41.0->-r requirements.txt (line 13)) (0.4.4)\n",
      "Requirement already satisfied: absl-py>=0.4 in c:\\users\\sangt\\anaconda3\\envs\\tensorflow\\lib\\site-packages (from tensorboard>=2.4.1->-r requirements.txt (line 16)) (1.0.0)\n",
      "Requirement already satisfied: google-auth-oauthlib<0.5,>=0.4.1 in c:\\users\\sangt\\anaconda3\\envs\\tensorflow\\lib\\site-packages (from tensorboard>=2.4.1->-r requirements.txt (line 16)) (0.4.6)\n",
      "Requirement already satisfied: protobuf>=3.9.2 in c:\\users\\sangt\\anaconda3\\envs\\tensorflow\\lib\\site-packages (from tensorboard>=2.4.1->-r requirements.txt (line 16)) (3.19.4)\n",
      "Requirement already satisfied: wheel>=0.26 in c:\\users\\sangt\\anaconda3\\envs\\tensorflow\\lib\\site-packages (from tensorboard>=2.4.1->-r requirements.txt (line 16)) (0.37.1)\n",
      "Requirement already satisfied: grpcio>=1.24.3 in c:\\users\\sangt\\anaconda3\\envs\\tensorflow\\lib\\site-packages (from tensorboard>=2.4.1->-r requirements.txt (line 16)) (1.44.0)\n",
      "Requirement already satisfied: setuptools>=41.0.0 in c:\\users\\sangt\\anaconda3\\envs\\tensorflow\\lib\\site-packages (from tensorboard>=2.4.1->-r requirements.txt (line 16)) (58.0.4)\n",
      "Requirement already satisfied: werkzeug>=1.0.1 in c:\\users\\sangt\\anaconda3\\envs\\tensorflow\\lib\\site-packages (from tensorboard>=2.4.1->-r requirements.txt (line 16)) (2.0.3)\n",
      "Requirement already satisfied: tensorboard-plugin-wit>=1.6.0 in c:\\users\\sangt\\anaconda3\\envs\\tensorflow\\lib\\site-packages (from tensorboard>=2.4.1->-r requirements.txt (line 16)) (1.8.1)\n",
      "Requirement already satisfied: google-auth<3,>=1.6.3 in c:\\users\\sangt\\anaconda3\\envs\\tensorflow\\lib\\site-packages (from tensorboard>=2.4.1->-r requirements.txt (line 16)) (2.6.2)\n",
      "Requirement already satisfied: tensorboard-data-server<0.7.0,>=0.6.0 in c:\\users\\sangt\\anaconda3\\envs\\tensorflow\\lib\\site-packages (from tensorboard>=2.4.1->-r requirements.txt (line 16)) (0.6.1)\n",
      "Requirement already satisfied: markdown>=2.6.8 in c:\\users\\sangt\\anaconda3\\envs\\tensorflow\\lib\\site-packages (from tensorboard>=2.4.1->-r requirements.txt (line 16)) (3.3.6)\n",
      "Requirement already satisfied: pytz>=2020.1 in c:\\users\\sangt\\anaconda3\\envs\\tensorflow\\lib\\site-packages (from pandas>=1.1.4->-r requirements.txt (line 20)) (2021.3)\n",
      "Requirement already satisfied: six in c:\\users\\sangt\\anaconda3\\envs\\tensorflow\\lib\\site-packages (from absl-py>=0.4->tensorboard>=2.4.1->-r requirements.txt (line 16)) (1.16.0)\n",
      "Requirement already satisfied: pyasn1-modules>=0.2.1 in c:\\users\\sangt\\anaconda3\\envs\\tensorflow\\lib\\site-packages (from google-auth<3,>=1.6.3->tensorboard>=2.4.1->-r requirements.txt (line 16)) (0.2.8)\n",
      "Requirement already satisfied: rsa<5,>=3.1.4 in c:\\users\\sangt\\anaconda3\\envs\\tensorflow\\lib\\site-packages (from google-auth<3,>=1.6.3->tensorboard>=2.4.1->-r requirements.txt (line 16)) (4.8)\n",
      "Requirement already satisfied: cachetools<6.0,>=2.0.0 in c:\\users\\sangt\\anaconda3\\envs\\tensorflow\\lib\\site-packages (from google-auth<3,>=1.6.3->tensorboard>=2.4.1->-r requirements.txt (line 16)) (5.0.0)\n",
      "Requirement already satisfied: requests-oauthlib>=0.7.0 in c:\\users\\sangt\\anaconda3\\envs\\tensorflow\\lib\\site-packages (from google-auth-oauthlib<0.5,>=0.4.1->tensorboard>=2.4.1->-r requirements.txt (line 16)) (1.3.1)\n",
      "Requirement already satisfied: importlib-metadata>=4.4 in c:\\users\\sangt\\anaconda3\\envs\\tensorflow\\lib\\site-packages (from markdown>=2.6.8->tensorboard>=2.4.1->-r requirements.txt (line 16)) (4.11.3)\n",
      "Requirement already satisfied: zipp>=0.5 in c:\\users\\sangt\\anaconda3\\envs\\tensorflow\\lib\\site-packages (from importlib-metadata>=4.4->markdown>=2.6.8->tensorboard>=2.4.1->-r requirements.txt (line 16)) (3.7.0)\n",
      "Requirement already satisfied: pyasn1<0.5.0,>=0.4.6 in c:\\users\\sangt\\anaconda3\\envs\\tensorflow\\lib\\site-packages (from pyasn1-modules>=0.2.1->google-auth<3,>=1.6.3->tensorboard>=2.4.1->-r requirements.txt (line 16)) (0.4.8)\n",
      "Requirement already satisfied: oauthlib>=3.0.0 in c:\\users\\sangt\\anaconda3\\envs\\tensorflow\\lib\\site-packages (from requests-oauthlib>=0.7.0->google-auth-oauthlib<0.5,>=0.4.1->tensorboard>=2.4.1->-r requirements.txt (line 16)) (3.2.0)\n",
      "Installing collected packages: Pillow, numpy, torch, scipy, pandas, matplotlib, torchvision, thop, tensorboard, PyYAML\n",
      "  Attempting uninstall: Pillow\n",
      "    Found existing installation: Pillow 9.0.1\n",
      "    Uninstalling Pillow-9.0.1:\n",
      "      Successfully uninstalled Pillow-9.0.1\n"
     ]
    },
    {
     "name": "stderr",
     "output_type": "stream",
     "text": [
      "WARNING: Ignore distutils configs in setup.cfg due to encoding errors.\n",
      "  WARNING: Ignore distutils configs in setup.cfg due to encoding errors.\n",
      "  WARNING: Ignore distutils configs in setup.cfg due to encoding errors.\n",
      "  WARNING: Ignore distutils configs in setup.cfg due to encoding errors.\n",
      "  WARNING: Ignore distutils configs in setup.cfg due to encoding errors.\n",
      "  WARNING: Ignore distutils configs in setup.cfg due to encoding errors.\n",
      "  WARNING: Ignore distutils configs in setup.cfg due to encoding errors.\n",
      "  WARNING: Ignore distutils configs in setup.cfg due to encoding errors.\n",
      "  WARNING: Ignore distutils configs in setup.cfg due to encoding errors.\n",
      "  WARNING: Ignore distutils configs in setup.cfg due to encoding errors.\n",
      "  WARNING: Ignore distutils configs in setup.cfg due to encoding errors.\n",
      "WARNING: Ignore distutils configs in setup.cfg due to encoding errors.\n",
      "ERROR: pip's dependency resolver does not currently take into account all the packages that are installed. This behaviour is the source of the following dependency conflicts.\n",
      "tensorflow 2.8.0 requires tensorboard<2.9,>=2.8, but you have tensorboard 2.9.0 which is incompatible.\n"
     ]
    },
    {
     "name": "stdout",
     "output_type": "stream",
     "text": [
      "  Attempting uninstall: numpy\n",
      "    Found existing installation: numpy 1.21.5\n",
      "    Uninstalling numpy-1.21.5:\n",
      "      Successfully uninstalled numpy-1.21.5\n",
      "  Attempting uninstall: scipy\n",
      "    Found existing installation: scipy 1.7.3\n",
      "    Uninstalling scipy-1.7.3:\n",
      "      Successfully uninstalled scipy-1.7.3\n",
      "  Attempting uninstall: pandas\n",
      "    Found existing installation: pandas 1.4.1\n",
      "    Uninstalling pandas-1.4.1:\n",
      "      Successfully uninstalled pandas-1.4.1\n",
      "  Attempting uninstall: matplotlib\n",
      "    Found existing installation: matplotlib 3.5.1\n",
      "    Uninstalling matplotlib-3.5.1:\n",
      "      Successfully uninstalled matplotlib-3.5.1\n",
      "  Attempting uninstall: tensorboard\n",
      "    Found existing installation: tensorboard 2.8.0\n",
      "    Uninstalling tensorboard-2.8.0:\n",
      "      Successfully uninstalled tensorboard-2.8.0\n",
      "Successfully installed Pillow-9.1.0 PyYAML-6.0 matplotlib-3.5.2 numpy-1.22.3 pandas-1.4.2 scipy-1.8.0 tensorboard-2.9.0 thop-0.0.31.post2005241907 torch-1.11.0 torchvision-0.12.0\n"
     ]
    }
   ],
   "source": [
    "#requirements를 통해 yolov5에서 필요한 packages(패키지)들을 한 번에 설치가 가능\n",
    "!pip install -U -r requirements.txt"
   ]
  },
  {
   "cell_type": "code",
   "execution_count": 114,
   "id": "b4150b30-920a-42e3-89af-6c3cd851d7bf",
   "metadata": {},
   "outputs": [
    {
     "name": "stderr",
     "output_type": "stream",
     "text": [
      "\u001b[34m\u001b[1mdetect: \u001b[0mweights=['yolov5s.pt'], source=../test/image12.jpg, data=data\\coco128.yaml, imgsz=[640, 640], conf_thres=0.4, iou_thres=0.45, max_det=1000, device=, view_img=False, save_txt=False, save_conf=False, save_crop=False, nosave=False, classes=None, agnostic_nms=False, augment=False, visualize=False, update=False, project=runs\\detect, name=exp, exist_ok=False, line_thickness=3, hide_labels=False, hide_conf=False, half=False, dnn=False\n",
      "YOLOv5  v6.1-177-gd059d1d torch 1.11.0+cpu CPU\n",
      "\n",
      "Fusing layers... \n",
      "YOLOv5s summary: 213 layers, 7225885 parameters, 0 gradients\n",
      "image 1/1 C:\\Git\\cloudclassification\\test\\image12.jpg: 640x640 Done. (0.610s)\n",
      "Speed: 4.0ms pre-process, 610.2ms inference, 3.0ms NMS per image at shape (1, 3, 640, 640)\n",
      "Results saved to \u001b[1mruns\\detect\\exp6\u001b[0m\n"
     ]
    }
   ],
   "source": [
    "!python detect.py --source ../test/image12.jpg --weights yolov5s.pt --conf 0.4"
   ]
  },
  {
   "cell_type": "code",
   "execution_count": 118,
   "id": "b69dbe71-fbb0-4d4d-8756-dc4dfdee23d4",
   "metadata": {},
   "outputs": [
    {
     "name": "stdout",
     "output_type": "stream",
     "text": [
      "../test/image0.jpg\n",
      "../test/image1.jpg\n",
      "../test/image10.jpg\n",
      "../test/image11.jpg\n",
      "../test/image12.jpg\n",
      "../test/image13.jpg\n",
      "../test/image14.jpg\n",
      "../test/image15.jpg\n",
      "../test/image16.jpg\n",
      "../test/image17.jpg\n",
      "../test/image18.jpg\n",
      "../test/image19.jpg\n",
      "../test/image2.jpg\n",
      "../test/image20.jpg\n",
      "../test/image3.jpg\n",
      "../test/image4.jpg\n",
      "../test/image5.jpg\n",
      "../test/image6.jpg\n",
      "../test/image7.jpg\n",
      "../test/image8.jpg\n",
      "../test/image9.jpg\n",
      "188.21795511245728\n"
     ]
    }
   ],
   "source": [
    "# 여러 이미지 확인 \n",
    "import glob\n",
    "import subprocess\n",
    "\n",
    "import time\n",
    "import os\n",
    "start = time.time()\n",
    "\n",
    "img_lists = glob.glob('../test/image*.jpg')\n",
    "for imgpath in img_lists:\n",
    "    if len(imgpath) <= 0:\n",
    "        print('images is zeros')\n",
    "        break\n",
    "    imgpath = imgpath.replace(\"\\\\\", \"/\")\n",
    "    print(imgpath)\n",
    "    subprocess.call(\"python detect.py --source \" +  imgpath + \" --weights yolov5s.pt --conf 0.2\")\n",
    "    \n",
    "    \n",
    "end = time.time()\n",
    "print(end - start)"
   ]
  },
  {
   "cell_type": "code",
   "execution_count": null,
   "id": "a37d16d4-6161-48c4-97f2-542e76accc91",
   "metadata": {},
   "outputs": [],
   "source": []
  }
 ],
 "metadata": {
  "kernelspec": {
   "display_name": "Python 3 (ipykernel)",
   "language": "python",
   "name": "python3"
  },
  "language_info": {
   "codemirror_mode": {
    "name": "ipython",
    "version": 3
   },
   "file_extension": ".py",
   "mimetype": "text/x-python",
   "name": "python",
   "nbconvert_exporter": "python",
   "pygments_lexer": "ipython3",
   "version": "3.9.7"
  }
 },
 "nbformat": 4,
 "nbformat_minor": 5
}
