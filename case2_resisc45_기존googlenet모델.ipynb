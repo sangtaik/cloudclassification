{
 "cells": [
  {
   "cell_type": "code",
   "execution_count": 6,
   "id": "bf6e2400-a414-45a0-b0bf-a8b92682d5d5",
   "metadata": {},
   "outputs": [
    {
     "name": "stdout",
     "output_type": "stream",
     "text": [
      "0\n",
      "1\n",
      "2\n",
      "3\n",
      "4\n",
      "5\n"
     ]
    }
   ],
   "source": [
    "# 슬라이드로 보여주기\n",
    "\n",
    "import sys\n",
    "import numpy as np\n",
    "import cv2\n",
    "import glob\n",
    "\n",
    "model = './googlenet/bvlc_googlenet.caffemodel'\n",
    "config = './googlenet/deploy.prototxt'\n",
    "\n",
    "net = cv2.dnn.readNet(model, config)\n",
    "\n",
    "if net.empty():\n",
    "    print('Network load fialed')\n",
    "    sys.exit()\n",
    "    \n",
    "# 분류명 불러오기\n",
    "classNames = []\n",
    "with open('./googlenet/classification_classes_ILSVRC2012.txt', 'r') as f:\n",
    "    classNames = f.read().rstrip('\\n').split('\\n')\n",
    "\n",
    "img_lists = glob.glob('./test/image*.jpg')\n",
    "\n",
    "cv2.namedWindow('scene', cv2.WINDOW_NORMAL)\n",
    "cv2.resizeWindow('scene', 488, 488) \n",
    "\n",
    "idx = 0\n",
    "while True:\n",
    "    if len(img_lists) <= 0:\n",
    "        print('images is zeros')\n",
    "        break\n",
    "    \n",
    "    print(idx)\n",
    "    img = cv2.imread(img_lists[idx])\n",
    "    if img is None:\n",
    "        print('image read failed')\n",
    "        break\n",
    "        \n",
    "        \n",
    "    blob = cv2.dnn.blobFromImage(img, 1, (244, 244), (104, 117, 123), swapRB = False)\n",
    "    net.setInput(blob)\n",
    "    prob = net.forward()\n",
    "    out = prob.flatten()\n",
    "    classId = np.argmax(out)\n",
    "    confidence = out[classId]\n",
    "    category = classNames[classId]\n",
    "    text = f'{category} ({confidence*100:4.2f} %)'\n",
    "    cv2.putText(img, text, (10, 30), cv2.FONT_HERSHEY_COMPLEX,\n",
    "                0.5, (0, 0, 255), 1, cv2.LINE_AA)\n",
    "    cv2.imshow('scene', img)\n",
    "\n",
    "\n",
    "    if cv2.waitKey(3000) == 27:\n",
    "        break\n",
    "\n",
    "    idx +=1\n",
    "    if idx >= len(img_lists):\n",
    "        idx = 0\n",
    "            \n",
    "\n",
    "\n",
    "cv2.destroyAllWindows()\n"
   ]
  },
  {
   "cell_type": "code",
   "execution_count": null,
   "id": "8cab70ca-ca1b-430f-b36c-8bc5626dc07d",
   "metadata": {},
   "outputs": [],
   "source": []
  }
 ],
 "metadata": {
  "kernelspec": {
   "display_name": "Python 3 (ipykernel)",
   "language": "python",
   "name": "python3"
  },
  "language_info": {
   "codemirror_mode": {
    "name": "ipython",
    "version": 3
   },
   "file_extension": ".py",
   "mimetype": "text/x-python",
   "name": "python",
   "nbconvert_exporter": "python",
   "pygments_lexer": "ipython3",
   "version": "3.9.7"
  }
 },
 "nbformat": 4,
 "nbformat_minor": 5
}
